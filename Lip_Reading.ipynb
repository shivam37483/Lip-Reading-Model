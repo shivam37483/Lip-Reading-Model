{
  "cells": [
    {
      "cell_type": "markdown",
      "metadata": {
        "id": "view-in-github",
        "colab_type": "text"
      },
      "source": [
        "<a href=\"https://colab.research.google.com/github/shivam37483/Lip-Reading-Model/blob/main/Lip_Reading.ipynb\" target=\"_parent\"><img src=\"https://colab.research.google.com/assets/colab-badge.svg\" alt=\"Open In Colab\"/></a>"
      ]
    },
    {
      "cell_type": "markdown",
      "metadata": {
        "id": "3DR-eO17geWu"
      },
      "source": [
        "# Convolutional Neural Network"
      ]
    },
    {
      "cell_type": "markdown",
      "metadata": {
        "id": "EMefrVPCg-60"
      },
      "source": [
        "### Importing the libraries"
      ]
    },
    {
      "cell_type": "code",
      "execution_count": null,
      "metadata": {
        "id": "sCV30xyVhFbE"
      },
      "outputs": [],
      "source": [
        "# !pip list\n",
        "\n",
        "# !pip install opencv-python matplotlib imageio gdown tensorflow\n",
        "\n",
        "# opencv ----- pre process the data (drive)\n",
        "# metaplotlib ------ render the results\n",
        "# imageio --------- gifs to see frames stacked together\n",
        "# gdown --------- download dataset"
      ]
    },
    {
      "cell_type": "code",
      "execution_count": null,
      "metadata": {
        "id": "M7jmLeVNVPGh"
      },
      "outputs": [],
      "source": [
        "import os               #navgigate/ traverse to dif file sys.\n",
        "import  cv2             #import opencv\n",
        "import tensorflow as tf\n",
        "import numpy as np         #preprocess any arrays\n",
        "from typing import List     #type annotation\n",
        "from matplotlib import pyplot as plt            #render preprocess/postprocess o/p of data loading function\n",
        "import imageio                      #convert arr into gif"
      ]
    },
    {
      "cell_type": "code",
      "execution_count": null,
      "metadata": {
        "colab": {
          "base_uri": "https://localhost:8080/"
        },
        "id": "U06oPWjkYiRx",
        "outputId": "d1fedf00-774d-4f61-b475-96a5c1792c75"
      },
      "outputs": [
        {
          "output_type": "execute_result",
          "data": {
            "text/plain": [
              "[]"
            ]
          },
          "metadata": {},
          "execution_count": 3
        }
      ],
      "source": [
        "tf.config.list_physical_devices('GPU')"
      ]
    },
    {
      "cell_type": "markdown",
      "metadata": {
        "id": "_2aUycVCY8YO"
      },
      "source": [
        "### Part 1 - Build Data Loading Functions"
      ]
    },
    {
      "cell_type": "code",
      "execution_count": null,
      "metadata": {
        "id": "GN9i3A4gZGwE"
      },
      "outputs": [],
      "source": [
        "# 1)To load up our videos\n",
        "# 2) To pre process our annotation(sentneces which person i video has talked about)\n",
        "\n",
        "import gdown\n",
        "url = 'https://drive.google.com/uc?id=1YlvpDLix3S-U8fd-gqRwPcWXAXm8JwjL'\n",
        "output = 'data.zip'\n",
        "gdown.download(url, output, quiet=False)\n",
        "gdown.extractall('data.zip')"
      ]
    },
    {
      "cell_type": "markdown",
      "metadata": {
        "id": "eSnQTjbD5Xzd"
      },
      "source": [
        "1. Function\n"
      ]
    },
    {
      "cell_type": "code",
      "execution_count": null,
      "metadata": {
        "id": "zm4Bi9Q8bEvV"
      },
      "outputs": [],
      "source": [
        "def load_video(path:str) -> List[float]:        #Take data path(string) and retrun in list of float which contains our video\n",
        "\n",
        "    cap = cv2.VideoCapture(path)          #video capture instance -> takes a path and loop thru each frames and store it inside array named frames\n",
        "    frames = []\n",
        "\n",
        "    for _ in range(int(cap.get(cv2.CAP_PROP_FRAME_COUNT))):        #starts a loop that iterates for no of frames in video || cv2.CAP_PROP_FRAME_COUN property of cap object to get total no frames in video\n",
        "      ret, frame = cap.read()                       #reads the next frame from video and assigns the returned values to both. ret indicates whether frame was successfully read and frame contains actual frame data\n",
        "      frame = tf.image.rgb_to_grayscale(frame)                 #convert to grayscale to reduce processing\n",
        "      frames.append(frame[190:236,80:220,:])                #only focus/isolate on mouth region (lipnet)\n",
        "    cap.release()                        # releases video capture object cap to free up system resources\n",
        "\n",
        "    mean = tf.math.reduce_mean(frames)                       #cal mean (standardising)\n",
        "    std = tf.math.reduce_std(tf.cast(frames,tf.float32))      #first converts tf.float32 datatype then cal std\n",
        "    return tf.cast((frames - mean), tf.float32)  / std             #normalizaton"
      ]
    },
    {
      "cell_type": "code",
      "execution_count": null,
      "metadata": {
        "id": "-NHbrM7y__hB"
      },
      "outputs": [],
      "source": [
        "vocab = [x for x in \"abcdefghijklmnopqrstuvwxyz'?!123456789 \"]              # creates a vocabulary"
      ]
    },
    {
      "cell_type": "code",
      "execution_count": null,
      "metadata": {
        "colab": {
          "base_uri": "https://localhost:8080/"
        },
        "id": "xn44Ao6yAw-u",
        "outputId": "30a49b03-b503-4c5d-9274-4af63decade2"
      },
      "outputs": [
        {
          "output_type": "stream",
          "name": "stdout",
          "text": [
            "The vocab is: ['', 'a', 'b', 'c', 'd', 'e', 'f', 'g', 'h', 'i', 'j', 'k', 'l', 'm', 'n', 'o', 'p', 'q', 'r', 's', 't', 'u', 'v', 'w', 'x', 'y', 'z', \"'\", '?', '!', '1', '2', '3', '4', '5', '6', '7', '8', '9', ' '] (size =40)\n"
          ]
        }
      ],
      "source": [
        "# converting num->char and reconverting our text to encoding\n",
        "char_to_num = tf.keras.layers.StringLookup(vocabulary=vocab, oov_token=\"\")           #pass thru this data to loss function and cal overall loss || out of vocab token so if ot encounters something outside vocab it will replpace eith blank\n",
        "num_to_char = tf.keras.layers.StringLookup(\n",
        "    vocabulary=char_to_num.get_vocabulary(), oov_token=\"\", invert = True         #yes convert no to char not other way around\n",
        ")\n",
        "\n",
        "print(\n",
        "    f\"The vocab is: {char_to_num.get_vocabulary()} \"\n",
        "    f\"(size ={char_to_num.vocabulary_size()})\"\n",
        ")"
      ]
    },
    {
      "cell_type": "code",
      "execution_count": null,
      "metadata": {
        "id": "TX_dYPKUDomH"
      },
      "outputs": [],
      "source": [
        "def load_alignments(path:str) -> List[str]:\n",
        "  with open(path, 'r') as f:            # opens the file specified by path perimeter in read mode and assigns it to file object \"f\"; with ensures file is properly cloesed after reading\n",
        "    lines = f.readlines()           #reads all lines from file object \"f\" and stores them in lines list\n",
        "  tokens = []\n",
        "\n",
        "  for line in lines:\n",
        "    line = line.split()            #splits the line into substring (each word) on the basis of \" \"\n",
        "    if line[2] != 'sil':\n",
        "      tokens = [*tokens, ' ', line[2]]               #appends the 3 element of line list to token list along with \" \"\n",
        "  return char_to_num(tf.reshape(tf.strings.unicode_split(tokens, input_encoding='UTF-8'), (-1)))[1:]\n",
        "\n",
        "  # splits each token into indivdual unicode characters and returns tf.Tensor object\n",
        "  # reshapes the tensor into a 1-dimensional tensor, flattening all characters\n",
        "  # slices the resulting tensor to exclude 1 tensor"
      ]
    },
    {
      "cell_type": "markdown",
      "metadata": {
        "id": "gqaqSS_UllFk"
      },
      "source": [
        "Loading data"
      ]
    },
    {
      "cell_type": "code",
      "execution_count": null,
      "metadata": {
        "id": "tvy_5ShHli94"
      },
      "outputs": [],
      "source": [
        "# output from this function will be preprocesed data for load allignments & video\n",
        "def load_data(path:str):\n",
        "  path = bytes.decode(path.numpy())        #converts path parameter from bytes to string using decode(); which is necessary if path para is ibtained from tf.Tensorflow object\n",
        "  file_name = path.split('/')[-1].split('.')[0]      #splits path string into substrings using \\\\ and selects last element(file name with extension); then splits filename.ext using . and selects 1 element(filename without ext)\n",
        "  video_path = os.path.join('data','s1',f'{file_name}.mpg')         #it constructs a file path anf joins the strings using appropiate path separator for os. REsulting path represnts the video file path\n",
        "  alignment_path = os.path.join('data','alignments','s1',f'{file_name}.align')\n",
        "  frames = load_video(video_path)                   #calls load_video function with para and stores in frames\n",
        "  alignments = load_alignments(alignment_path)\n",
        "\n",
        "  return frames, alignments"
      ]
    },
    {
      "cell_type": "code",
      "execution_count": null,
      "metadata": {
        "colab": {
          "base_uri": "https://localhost:8080/",
          "height": 36
        },
        "id": "Fu3FfuzZln2m",
        "outputId": "96b59ea2-b6c4-4675-a6a0-da53113e9a72"
      },
      "outputs": [
        {
          "output_type": "execute_result",
          "data": {
            "text/plain": [
              "''"
            ],
            "application/vnd.google.colaboratory.intrinsic+json": {
              "type": "string"
            }
          },
          "metadata": {},
          "execution_count": 10
        }
      ],
      "source": [
        "test_path = './data/s1/bbal6n.mpg'\n",
        "tf.convert_to_tensor(test_path).numpy().decode('utf-8').split('\\\\')[-1].split('.')[0]"
      ]
    },
    {
      "cell_type": "code",
      "execution_count": null,
      "metadata": {
        "id": "FaOk4VAnqrIX"
      },
      "outputs": [],
      "source": [
        "frames, alignments = load_data(tf.convert_to_tensor(test_path))"
      ]
    },
    {
      "cell_type": "code",
      "execution_count": null,
      "metadata": {
        "colab": {
          "base_uri": "https://localhost:8080/",
          "height": 244
        },
        "id": "oBc1XZRNsFzq",
        "outputId": "b6c536a1-dcbb-4262-bfb6-342fdcc7a3f0"
      },
      "outputs": [
        {
          "output_type": "execute_result",
          "data": {
            "text/plain": [
              "<matplotlib.image.AxesImage at 0x7aa1bffb3c10>"
            ]
          },
          "metadata": {},
          "execution_count": 12
        },
        {
          "output_type": "display_data",
          "data": {
            "text/plain": [
              "<Figure size 640x480 with 1 Axes>"
            ],
            "image/png": "[encoded data removed]"
          },
          "metadata": {}
        }
      ],
      "source": [
        "plt.imshow(frames[40])             #shows persons mouth, which whould show mouth moving if all frames are stacked together"
      ]
    },
    {
      "cell_type": "code",
      "execution_count": null,
      "metadata": {
        "colab": {
          "base_uri": "https://localhost:8080/"
        },
        "id": "EPtZPNMzskyV",
        "outputId": "db938c77-a5fc-400d-fe7a-43bb62eb7968"
      },
      "outputs": [
        {
          "output_type": "execute_result",
          "data": {
            "text/plain": [
              "<tf.Tensor: shape=(21,), dtype=int64, numpy=\n",
              "array([ 2,  9, 14, 39,  2, 12, 21,  5, 39,  1, 20, 39, 12, 39, 19,  9, 24,\n",
              "       39, 14, 15, 23])>"
            ]
          },
          "metadata": {},
          "execution_count": 13
        }
      ],
      "source": [
        "alignments           #converted raw alignments into encoded sequence which will then be able to pass thru our ml model"
      ]
    },
    {
      "cell_type": "code",
      "execution_count": null,
      "metadata": {
        "colab": {
          "base_uri": "https://localhost:8080/"
        },
        "id": "z7kwT-N8u_y0",
        "outputId": "06872e28-951f-4ac4-e3d7-e498657e9fb9"
      },
      "outputs": [
        {
          "output_type": "execute_result",
          "data": {
            "text/plain": [
              "<tf.Tensor: shape=(), dtype=string, numpy=b'bin blue at l six now'>"
            ]
          },
          "metadata": {},
          "execution_count": 14
        }
      ],
      "source": [
        "tf.strings.reduce_join([bytes.decode(x) for x in num_to_char(alignments.numpy()).numpy()])"
      ]
    },
    {
      "cell_type": "code",
      "execution_count": null,
      "metadata": {
        "id": "J2XFJa_XvNKd"
      },
      "outputs": [],
      "source": [
        "def mappable_function(path:str) ->List[str]:\n",
        "    result = tf.py_function(load_data, [path], (tf.float32, tf.int64))\n",
        "    return result\n",
        "\n",
        "# def mappable_function(path:str) ->List[str]:\n",
        "#     result = tf.py_function(load_data, [path], (tf.float32, tf.int64))\n",
        "#     result[0].set_shape([None])  # None indicates that the dimension size is unknown\n",
        "#     result[1].set_shape([])\n",
        "#     return result\n"
      ]
    },
    {
      "cell_type": "markdown",
      "metadata": {
        "id": "oxQxCBWyoGPE"
      },
      "source": [
        "\n",
        "\n",
        "## Part 2 - Creating Data Pipelining"
      ]
    },
    {
      "cell_type": "code",
      "execution_count": null,
      "metadata": {
        "id": "KPINJ34afqPp"
      },
      "outputs": [],
      "source": [
        "# this is how we will sending data to our model\n",
        "data = tf.data.Dataset.list_files('./data/s1/*.mpg')        # creating our dataset go in resepective and folder and look for anything that ends in 'mpg' which is format for our videos\n",
        "data = data.shuffle(500)          #specifying cache size of 500, it will grab first 500 and return a value of that\n",
        "data = data.map(mappable_function)   #we only hv file path till now this will get the actual data present at path0\n",
        "data = data.padded_batch(2, padded_shapes=([75,None,None,None],[40]))        #we'r batching into group size of 2, each will hv 2 videos and 2 set of alignments; we ensure we hv 75 frames; 40 tokens for each one of alignments if <40 then it will be padded out to 0\n",
        "data = data.prefetch(tf.data.AUTOTUNE)      #optimizing our pipeline; we are pre-loading as our ml model is training\n",
        "\n",
        "# Added for split\n",
        "train = data.take(450)\n",
        "test = data.skip(450)"
      ]
    },
    {
      "cell_type": "code",
      "execution_count": null,
      "metadata": {
        "colab": {
          "base_uri": "https://localhost:8080/"
        },
        "id": "-Oi_I-Qxhv-u",
        "outputId": "c56adbc1-164e-4cee-e85c-a46fa83e0f9f"
      },
      "outputs": [
        {
          "output_type": "execute_result",
          "data": {
            "text/plain": [
              "array([[19,  5, 20, 39,  7, 18,  5,  5, 14, 39,  9, 14, 39,  3, 39, 26,\n",
              "         5, 18, 15, 39, 16, 12,  5,  1, 19,  5,  0,  0,  0,  0,  0,  0,\n",
              "         0,  0,  0,  0,  0,  0,  0,  0],\n",
              "       [19,  5, 20, 39,  7, 18,  5,  5, 14, 39,  9, 14, 39,  9, 39,  6,\n",
              "         9, 22,  5, 39,  1,  7,  1,  9, 14,  0,  0,  0,  0,  0,  0,  0,\n",
              "         0,  0,  0,  0,  0,  0,  0,  0]])"
            ]
          },
          "metadata": {},
          "execution_count": 17
        }
      ],
      "source": [
        "frames, alignments = data.as_numpy_iterator().next()\n",
        "alignments"
      ]
    },
    {
      "cell_type": "code",
      "execution_count": null,
      "metadata": {
        "id": "ZzIQWU1GBzoN"
      },
      "outputs": [],
      "source": [
        "test = data.as_numpy_iterator()\n",
        "val = test.next(); val[0]              #return our frames"
      ]
    },
    {
      "cell_type": "code",
      "execution_count": null,
      "metadata": {
        "id": "Ib-Prv8UEjlj"
      },
      "outputs": [],
      "source": [
        "fps = 10\n",
        "frame_duration = 1000 / fps\n",
        "# val_frames = val[0][1]\n",
        "# imageio.mimsave('./animation.gif',val_frames, duration=frame_duration)"
      ]
    },
    {
      "cell_type": "code",
      "execution_count": null,
      "metadata": {
        "colab": {
          "base_uri": "https://localhost:8080/",
          "height": 244
        },
        "id": "hYLbPk1ouCA9",
        "outputId": "2bb8d23e-b51d-4f69-8f5f-acad1e994c33"
      },
      "outputs": [
        {
          "output_type": "execute_result",
          "data": {
            "text/plain": [
              "<matplotlib.image.AxesImage at 0x7aa1bc53b1f0>"
            ]
          },
          "metadata": {},
          "execution_count": 20
        },
        {
          "output_type": "display_data",
          "data": {
            "text/plain": [
              "<Figure size 640x480 with 1 Axes>"
            ],
            "image/png": "[encoded data removed]"
          },
          "metadata": {}
        }
      ],
      "source": [
        "#1)videos; 1 video of the batch; 1 frame in video\n",
        "plt.imshow(val[0][0][34])"
      ]
    },
    {
      "cell_type": "code",
      "execution_count": null,
      "metadata": {
        "colab": {
          "base_uri": "https://localhost:8080/"
        },
        "id": "3ji67EMwVNSg",
        "outputId": "72a983ff-03ce-4759-cf9e-2ddf5db40967"
      },
      "outputs": [
        {
          "output_type": "execute_result",
          "data": {
            "text/plain": [
              "<tf.Tensor: shape=(), dtype=string, numpy=b'place red with k zero please'>"
            ]
          },
          "metadata": {},
          "execution_count": 21
        }
      ],
      "source": [
        "tf.strings.reduce_join([num_to_char(word) for word in val[1][0]])         #output that our model should give"
      ]
    },
    {
      "cell_type": "markdown",
      "metadata": {
        "id": "U3PZasO0006Z"
      },
      "source": [
        "## Part 3 - Designing DEep NN\n",
        "\n"
      ]
    },
    {
      "cell_type": "code",
      "source": [
        "#we will 3d convulution tp pass videos and eventually condense it down to a classification\n",
        "#dense layer which predicts characters.\n",
        "#single characters at a time: Loss func-> CTC [it works great when we hv word trascriptions that aren't specifically aligned to frames]\n",
        "#given struc of model its is likely to repeat same letter/word multiple times\n",
        "#given our time per ter mg bk"
      ],
      "metadata": {
        "id": "MZ0wvJuUEWq_"
      },
      "execution_count": null,
      "outputs": []
    },
    {
      "cell_type": "markdown",
      "metadata": {
        "id": "mrCMmGw9pHys"
      },
      "source": [
        "### Importing our Dependencies\n"
      ]
    },
    {
      "cell_type": "code",
      "source": [
        "from tensorflow.keras.models import Sequential\n",
        "from tensorflow.keras.layers import Conv3D, LSTM, Dense, Dropout, Bidirectional, MaxPool3D, Activation, Reshape, SpatialDropout3D, BatchNormalization, TimeDistributed, Flatten\n",
        "from tensorflow.keras.optimizers import Adam\n",
        "from tensorflow.keras.callbacks import ModelCheckpoint, LearningRateScheduler\n",
        "\n",
        "#Conv3D - great when working with videos; video proceesing/classifcation\n",
        "#lstm - our current nn -> transformer nn\n",
        "\n",
        "#model_Checkpoint - save down our model after every x no of epochs"
      ],
      "metadata": {
        "id": "ZgcLuo-tF5bY"
      },
      "execution_count": null,
      "outputs": []
    },
    {
      "cell_type": "markdown",
      "metadata": {
        "id": "MvE-heJNo3GG"
      },
      "source": [
        "### Neural Network\n",
        "\n"
      ]
    },
    {
      "cell_type": "code",
      "source": [
        "data.as_numpy_iterator().next()[0][0].shape"
      ],
      "metadata": {
        "colab": {
          "base_uri": "https://localhost:8080/"
        },
        "id": "21n0C8H-JkUb",
        "outputId": "7a5c1f95-0680-434b-8605-44bda8b6a517"
      },
      "execution_count": null,
      "outputs": [
        {
          "output_type": "execute_result",
          "data": {
            "text/plain": [
              "(75, 46, 140, 1)"
            ]
          },
          "metadata": {},
          "execution_count": 24
        }
      ]
    },
    {
      "cell_type": "code",
      "source": [
        "model = Sequential()    #instantianting our model\n",
        "model.add(Conv3D(128, 3, input_shape=(75,46,140,1), padding='same'))\n",
        "#128 3d conv. kernels/units. these are gonna be 3x3x3 in size; reprenstation whch we hv from our data; same - to preserve the shape of our inputs; relu - to give non-linearity to our nn\n",
        "model.add(Activation('relu'))\n",
        "model.add(MaxPool3D((1,2,2)))   #condensing it down,takes max values inside each one of our frames and its gonna condense it down to a 2x2 sq; taking max val to half the shape of our inputs\n",
        "\n",
        "model.add(Conv3D(256, 3, padding='same'))\n",
        "model.add(Activation('relu'))\n",
        "model.add(MaxPool3D((1,2,2)))\n",
        "\n",
        "model.add(Conv3D(75, 3, padding='same'))\n",
        "model.add(Activation('relu'))\n",
        "model.add(MaxPool3D((1,2,2)))\n",
        "\n",
        "model.add(TimeDistributed(Flatten()))         #this will allow us to hv 75 inputs for our lstm nn so that it can output 75 units which represents our text based characters\n",
        "\n",
        "model.add(Bidirectional(LSTM(128, kernel_initializer='Orthogonal', return_sequences=True)))        #bidrectional - passing our state from left -> right and right -> left becoz its likely to impact how we actually go and translate this out , good prac. done in paper\n",
        "#128 units; return seq so that our lstm does not return a single unit but all 75\n",
        "model.add(Dropout(.5))         #done for regularization, dropping 50% of our units\n",
        "\n",
        "model.add(Bidirectional(LSTM(128, kernel_initializer='Orthogonal', return_sequences=True)))\n",
        "model.add(Dropout(.5))\n",
        "\n",
        "model.add(Dense(char_to_num.vocabulary_size()+1, kernel_initializer='he_normal', activation='softmax'))\n"
      ],
      "metadata": {
        "id": "aJLtPA0tHibP"
      },
      "execution_count": null,
      "outputs": []
    },
    {
      "cell_type": "code",
      "source": [
        "model.summary()"
      ],
      "metadata": {
        "id": "zu52FysgQXjs"
      },
      "execution_count": null,
      "outputs": []
    },
    {
      "cell_type": "code",
      "source": [
        "#in time distributed -> 6375(5*17*75) is result of flattening of above"
      ],
      "metadata": {
        "id": "LRKSaq_wyhmb"
      },
      "execution_count": null,
      "outputs": []
    },
    {
      "cell_type": "code",
      "source": [
        "yhat = model.predict(val[0])"
      ],
      "metadata": {
        "colab": {
          "base_uri": "https://localhost:8080/"
        },
        "id": "432zrp11zOtV",
        "outputId": "8009f7b1-23ad-45aa-e440-b4de7e526cdc"
      },
      "execution_count": null,
      "outputs": [
        {
          "output_type": "stream",
          "name": "stdout",
          "text": [
            "1/1 [==============================] - 18s 18s/step\n"
          ]
        }
      ]
    },
    {
      "cell_type": "code",
      "source": [
        "# yhat[0].shape     #75 outputs, each of these reprsentated as an array with 41 values(one hot encoded resentation of our vocab)\n",
        "# tf.argmax(yhat[0],axis=1)            #what actually our model is predicting\n",
        "\n",
        "[num_to_char(x) for x in tf.argmax(yhat[0],axis=1)]"
      ],
      "metadata": {
        "id": "VC7XYlTU0TKA"
      },
      "execution_count": null,
      "outputs": []
    },
    {
      "cell_type": "code",
      "source": [
        "tf.strings.reduce_join([num_to_char(tf.argmax(x)) for x in yhat[0]])    #argmax-> greedy algo to grabbing max prediction return back"
      ],
      "metadata": {
        "colab": {
          "base_uri": "https://localhost:8080/"
        },
        "id": "xefsMheszi2L",
        "outputId": "9fb0e86a-ba50-4450-e69b-606fb06ac18d"
      },
      "execution_count": null,
      "outputs": [
        {
          "output_type": "execute_result",
          "data": {
            "text/plain": [
              "<tf.Tensor: shape=(), dtype=string, numpy=b'rrrrrrrrr33333333333333333333333333333333333333333tttttttt????st'>"
            ]
          },
          "metadata": {},
          "execution_count": 30
        }
      ]
    },
    {
      "cell_type": "code",
      "source": [
        "model.input_shape"
      ],
      "metadata": {
        "colab": {
          "base_uri": "https://localhost:8080/"
        },
        "id": "gkX9N0PT2Os6",
        "outputId": "ac7ad809-a7ae-41b3-ef86-6a0a2072629a"
      },
      "execution_count": null,
      "outputs": [
        {
          "output_type": "execute_result",
          "data": {
            "text/plain": [
              "(None, 75, 46, 140, 1)"
            ]
          },
          "metadata": {},
          "execution_count": 31
        }
      ]
    },
    {
      "cell_type": "code",
      "source": [
        "model.output_shape"
      ],
      "metadata": {
        "colab": {
          "base_uri": "https://localhost:8080/"
        },
        "id": "czmg-01y2UFy",
        "outputId": "7a04c05c-f7f2-409a-d0f6-fdf3895cbd45"
      },
      "execution_count": null,
      "outputs": [
        {
          "output_type": "execute_result",
          "data": {
            "text/plain": [
              "(None, 75, 41)"
            ]
          },
          "metadata": {},
          "execution_count": 32
        }
      ]
    },
    {
      "cell_type": "markdown",
      "metadata": {
        "id": "ehS-v3MIpX2h"
      },
      "source": [
        "## Part 4 - SEtting UP training options & TRain"
      ]
    },
    {
      "cell_type": "code",
      "source": [
        "def scheduler(epoch, lr):        #learning rate scheduler\n",
        "  if epoch < 30:\n",
        "    return lr\n",
        "  else:\n",
        "    return lr * tf.math.exp(-0.1)            #drop it down with exp func"
      ],
      "metadata": {
        "id": "O_uYTDap3a24"
      },
      "execution_count": null,
      "outputs": []
    },
    {
      "cell_type": "code",
      "source": [
        "def CTCLoss(y_true, y_pred):             #y_true -> ailgnments; y_pred-> one hot encoded pred; il -> 75(same shape as output of our ml model); ll -> 40\n",
        "    batch_len = tf.cast(tf.shape(y_true)[0], dtype=\"int64\")\n",
        "    input_length = tf.cast(tf.shape(y_pred)[1], dtype=\"int64\")\n",
        "    label_length = tf.cast(tf.shape(y_true)[1], dtype=\"int64\")\n",
        "\n",
        "    input_length = input_length * tf.ones(shape=(batch_len, 1), dtype=\"int64\")\n",
        "    label_length = label_length * tf.ones(shape=(batch_len, 1), dtype=\"int64\")\n",
        "\n",
        "    loss = tf.keras.backend.ctc_batch_cost(y_true, y_pred, input_length, label_length)\n",
        "    return loss"
      ],
      "metadata": {
        "id": "BOzFdcNiIOk-"
      },
      "execution_count": null,
      "outputs": []
    },
    {
      "cell_type": "code",
      "source": [
        "#outputing a set of pred.\n",
        "class ProduceExample(tf.keras.callbacks.Callback):\n",
        "    def __init__(self, dataset) -> None:            #subclassing in order to be able to call this callback on every epoch end\n",
        "        self.dataset = dataset.as_numpy_iterator()\n",
        "\n",
        "    def on_epoch_end(self, epoch, logs=None) -> None:\n",
        "        data = self.dataset.next()\n",
        "        yhat = self.model.predict(data[0])\n",
        "        decoded = tf.keras.backend.ctc_decode(yhat, [75,75], greedy=False)[0][0].numpy()     #ctc_decode  speciafically designed to decode the outputs of ctc trained model\n",
        "        for x in range(len(yhat)):\n",
        "            print('Original:', tf.strings.reduce_join(num_to_char(data[1][x])).numpy().decode('utf-8'))      #orignal pred/annotation\n",
        "            print('Prediction:', tf.strings.reduce_join(num_to_char(decoded[x])).numpy().decode('utf-8'))\n",
        "            print('~'*100)"
      ],
      "metadata": {
        "id": "kgljxmLI0bMC"
      },
      "execution_count": null,
      "outputs": []
    },
    {
      "cell_type": "code",
      "source": [
        "model.compile(optimizer=Adam(learning_rate = 0.0001), loss = CTCLoss)       #"
      ],
      "metadata": {
        "id": "al4cQQSvKQiL"
      },
      "execution_count": null,
      "outputs": []
    },
    {
      "cell_type": "code",
      "source": [
        "checkpoint_callback = ModelCheckpoint(os.path.join('models','checkpoint'), monitor='loss', save_weights_only=True)\n",
        "#save our model checkpoints\n",
        "#loss -> save model's weight when training loss reaches its min value; true -> only model's weights will be saved else whole model including everything"
      ],
      "metadata": {
        "id": "x7HfZCPFKlv-"
      },
      "execution_count": null,
      "outputs": []
    },
    {
      "cell_type": "code",
      "source": [
        "schedule_callback = LearningRateScheduler(scheduler)    #allow us to drop our learning rate at end of each epoch"
      ],
      "metadata": {
        "id": "_Ttda6lQK4hD"
      },
      "execution_count": null,
      "outputs": []
    },
    {
      "cell_type": "code",
      "source": [
        "example_callback = ProduceExample(data)    #make some pred after each epoch to see how well our model is training"
      ],
      "metadata": {
        "id": "bB65zfuULITn"
      },
      "execution_count": null,
      "outputs": []
    },
    {
      "cell_type": "code",
      "source": [
        "model.fit(data, validation_data=test, epochs=100, callbacks=[checkpoint_callback, schedule_callback, example_callback])"
      ],
      "metadata": {
        "colab": {
          "base_uri": "https://localhost:8080/"
        },
        "id": "wGkP0b8FRcGF",
        "outputId": "66e2cfb0-ee3d-46e6-c351-f252a8b7d3d1"
      },
      "execution_count": null,
      "outputs": [
        {
          "output_type": "stream",
          "name": "stdout",
          "text": [
            "Epoch 1/100\n",
            " 10/500 [..............................] - ETA: 10:00:24 - loss: 150.7822"
          ]
        }
      ]
    },
    {
      "cell_type": "markdown",
      "source": [
        "##Part 5 -  Making a Pred\n"
      ],
      "metadata": {
        "id": "PPqXnryB3dK9"
      }
    },
    {
      "cell_type": "code",
      "source": [
        "# Downloading the checkpoints(after 96 epochs);override our existing checkpoints\n",
        "url = 'https://drive.google.com/uc?id=1vWscXs4Vt0a_1IH1-ct2TCgXAZT-N3_Y'\n",
        "output = 'checkpoints.zip'\n",
        "gdown.download(url, output, quiet=False)\n",
        "gdown.extractall('checkpoints.zip', 'models')"
      ],
      "metadata": {
        "id": "c__nThiR3mnJ"
      },
      "execution_count": null,
      "outputs": []
    },
    {
      "cell_type": "code",
      "source": [
        "model.load_weight('models/checkpoint')          #load the checkpoints into our model"
      ],
      "metadata": {
        "id": "eG6fRHf64wcG"
      },
      "execution_count": null,
      "outputs": []
    },
    {
      "cell_type": "code",
      "source": [
        "test_data = test.as_numpy_iterator()       #grab a sec of our data"
      ],
      "metadata": {
        "id": "UHPnKV1q5Op_"
      },
      "execution_count": null,
      "outputs": []
    },
    {
      "cell_type": "code",
      "source": [
        "sample = test_data.next()       #another sample; get data"
      ],
      "metadata": {
        "id": "p6pFJUTt5gaM"
      },
      "execution_count": null,
      "outputs": []
    },
    {
      "cell_type": "code",
      "source": [
        "yhat = model.predict(sample[0])    #make a pred"
      ],
      "metadata": {
        "id": "rjz3oT3M5xxV"
      },
      "execution_count": null,
      "outputs": []
    },
    {
      "cell_type": "code",
      "source": [
        "print('~'*100, 'REAL TEXT')\n",
        "[tf.strings.reduce_join([num_to_char(word) for word in sentence]) for sentence in sample[1]]"
      ],
      "metadata": {
        "id": "Pm8EmCla65da"
      },
      "execution_count": null,
      "outputs": []
    },
    {
      "cell_type": "code",
      "source": [
        "decoded = tf.keras.backend.ctc_decode(yhat, input_length=[75,75], greedy=True)[0][0].numpy()"
      ],
      "metadata": {
        "id": "2utKs_YE6aNg"
      },
      "execution_count": null,
      "outputs": []
    },
    {
      "cell_type": "code",
      "source": [
        "print('~'*100, 'PREDICTIONS')\n",
        "[tf.strings.reduce_join([num_to_char(word) for word in sentence]) for sentence in decoded]"
      ],
      "metadata": {
        "id": "py9GAF-t65LA"
      },
      "execution_count": null,
      "outputs": []
    },
    {
      "cell_type": "markdown",
      "source": [
        "## Test on *Video*"
      ],
      "metadata": {
        "id": "JoZejhRt7nO2"
      }
    },
    {
      "cell_type": "code",
      "source": [
        "sample = load_data(tf.convert_to_tensor('.\\\\data\\\\s1\\\\bras9a.mpg'))"
      ],
      "metadata": {
        "id": "J7wXpVE17wO_"
      },
      "execution_count": null,
      "outputs": []
    },
    {
      "cell_type": "code",
      "source": [
        "print('~'*100, 'REAL TEXT')\n",
        "[tf.strings.reduce_join([num_to_char(word) for word in sentence]) for sentence in [sample[1]]]"
      ],
      "metadata": {
        "id": "gYmHwYnu894B"
      },
      "execution_count": null,
      "outputs": []
    },
    {
      "cell_type": "code",
      "source": [
        "yhat = model.predict(tf.expand_dims(sample[0], axis=0))"
      ],
      "metadata": {
        "id": "XgFDGFlf9BwI"
      },
      "execution_count": null,
      "outputs": []
    },
    {
      "cell_type": "code",
      "source": [
        "decoded = tf.keras.backend.ctc_decode(yhat, input_length=[75], greedy=True)[0][0].numpy()"
      ],
      "metadata": {
        "id": "uqslbYbX9TXP"
      },
      "execution_count": null,
      "outputs": []
    },
    {
      "cell_type": "code",
      "source": [
        "print('~'*100, 'PREDICTIONS')\n",
        "[tf.strings.reduce_join([num_to_char(word) for word in sentence]) for sentence in decoded]"
      ],
      "metadata": {
        "id": "7Yh8dI-d9V4K"
      },
      "execution_count": null,
      "outputs": []
    }
  ],
  "metadata": {
    "colab": {
      "provenance": [],
      "collapsed_sections": [
        "EMefrVPCg-60",
        "_2aUycVCY8YO",
        "oxQxCBWyoGPE",
        "U3PZasO0006Z",
        "ehS-v3MIpX2h",
        "PPqXnryB3dK9"
      ],
      "include_colab_link": true
    },
    "kernelspec": {
      "display_name": "Python 3",
      "name": "python3"
    }
  },
  "nbformat": 4,
  "nbformat_minor": 0
}